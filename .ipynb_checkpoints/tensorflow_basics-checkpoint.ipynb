{
 "cells": [
  {
   "cell_type": "code",
   "execution_count": 2,
   "id": "a54f5335",
   "metadata": {},
   "outputs": [],
   "source": [
    "import tensorflow as tf"
   ]
  },
  {
   "cell_type": "code",
   "execution_count": 3,
   "id": "8977edfe",
   "metadata": {},
   "outputs": [],
   "source": [
    "var = tf.Variable('dummy string', tf.string)\n",
    "num = tf.Variable(34, tf.int16)\n",
    "flt = tf.Variable(4.323, tf.float64)"
   ]
  },
  {
   "cell_type": "code",
   "execution_count": 5,
   "id": "e386d0db",
   "metadata": {},
   "outputs": [],
   "source": [
    "# rank/degree of tensors is the number of dimensions involved in the tensor\n",
    "# normal inputs (like; var, num and flt defined above) are 0D, a list is of 1D, a singly\n",
    "# nested list is of 2D"
   ]
  },
  {
   "cell_type": "code",
   "execution_count": 46,
   "id": "d5daa7be",
   "metadata": {},
   "outputs": [],
   "source": [
    "rank1_tensor = tf.Variable(['test', 'check'], tf.string)\n",
    "rank2_tensor = tf.Variable([['console', 'alert', 'prompt'], ['bengoshi', 'kawaii', 'hito']], tf.string)\n",
    "demo_tensor = tf.Variable([['alert', 'prompt'], ['kawaii', 'hito'], ['soy', 'toy']], tf.string)"
   ]
  },
  {
   "cell_type": "code",
   "execution_count": 49,
   "id": "d649c4f2",
   "metadata": {},
   "outputs": [
    {
     "name": "stdout",
     "output_type": "stream",
     "text": [
      "tf.Tensor(1, shape=(), dtype=int32)\n",
      "tf.Tensor(2, shape=(), dtype=int32)\n",
      "tf.Tensor(2, shape=(), dtype=int32)\n"
     ]
    }
   ],
   "source": [
    "# shape simply tells the amount of elements in each dimension (it doesn't tell the rank)\n",
    "print(tf.rank(rank1_tensor))\n",
    "print(tf.rank(rank2_tensor))\n",
    "print(tf.rank(demo_tensor))"
   ]
  },
  {
   "cell_type": "code",
   "execution_count": 51,
   "id": "c3c7167f",
   "metadata": {},
   "outputs": [
    {
     "name": "stdout",
     "output_type": "stream",
     "text": [
      "(2,) (2, 3) (3, 2)\n"
     ]
    }
   ],
   "source": [
    "print(rank1_tensor.shape, rank2_tensor.shape, demo_tensor.shape)\n",
    "# this would normally yield a tuple of the (elemInfirstDim, elemInsecDim...)\n",
    "# typically should be (2) (2, 3) and (3, 2)"
   ]
  },
  {
   "cell_type": "code",
   "execution_count": 52,
   "id": "33770e13",
   "metadata": {},
   "outputs": [
    {
     "name": "stdout",
     "output_type": "stream",
     "text": [
      "tf.Tensor(\n",
      "[[[1. 1. 1.]\n",
      "  [1. 1. 1.]]], shape=(1, 2, 3), dtype=float32)\n"
     ]
    }
   ],
   "source": [
    "tensor = tf.ones([1, 2, 3]) \n",
    "# a single list, in it two lists, in each, three elements (of ones)\n",
    "# firstDim => one stuff, secDim => two stuff (inside the 1 stuff confirmed to be a list), \n",
    "# thirdDim => three stuff (inside each of the two stuff, now also confirmed to be lists)\n",
    "rank1_tensor.shape\n",
    "print(tensor)"
   ]
  },
  {
   "cell_type": "code",
   "execution_count": 55,
   "id": "9fc0354a",
   "metadata": {},
   "outputs": [
    {
     "name": "stdout",
     "output_type": "stream",
     "text": [
      "tf.Tensor(\n",
      "[[[1.]\n",
      "  [1.]\n",
      "  [1.]]\n",
      "\n",
      " [[1.]\n",
      "  [1.]\n",
      "  [1.]]], shape=(2, 3, 1), dtype=float32)\n"
     ]
    }
   ],
   "source": [
    "new_tensor = tf.reshape(tensor, [2, 3, 1])\n",
    "# two lists, in each three lists, in each one element\n",
    "print(new_tensor)"
   ]
  },
  {
   "cell_type": "code",
   "execution_count": 61,
   "id": "44f9d3d3",
   "metadata": {},
   "outputs": [],
   "source": [
    "mod_tensor = tf.reshape(new_tensor, [3, -1])\n",
    "# three lists off of new_tensor, -1 => implies letting tensorflow figure out how many elements \n",
    "# will be in each of those three lists; and the shape would be printed in the result"
   ]
  },
  {
   "cell_type": "code",
   "execution_count": 62,
   "id": "1359caa3",
   "metadata": {},
   "outputs": [
    {
     "name": "stdout",
     "output_type": "stream",
     "text": [
      "tf.Tensor(\n",
      "[[1. 1.]\n",
      " [1. 1.]\n",
      " [1. 1.]], shape=(3, 2), dtype=float32)\n"
     ]
    }
   ],
   "source": [
    "print(mod_tensor)"
   ]
  },
  {
   "cell_type": "code",
   "execution_count": 63,
   "id": "b66fb88d",
   "metadata": {},
   "outputs": [],
   "source": [
    "# important note: when carrying the reshame method, the multiplication of all numbers in the\n",
    "# parameter of the new item tells us the total number of elements to expect in the output"
   ]
  },
  {
   "cell_type": "code",
   "execution_count": 64,
   "id": "16fe7122",
   "metadata": {},
   "outputs": [],
   "source": [
    "# types of constant include variable (used already), constant, placeholder and sparseTensor"
   ]
  },
  {
   "cell_type": "code",
   "execution_count": 66,
   "id": "3ea0a634",
   "metadata": {},
   "outputs": [
    {
     "ename": "AttributeError",
     "evalue": "module 'tensorflow' has no attribute 'Session'",
     "output_type": "error",
     "traceback": [
      "\u001b[1;31m---------------------------------------------------------------------------\u001b[0m",
      "\u001b[1;31mAttributeError\u001b[0m                            Traceback (most recent call last)",
      "\u001b[1;32m~\\AppData\\Local\\Temp/ipykernel_3768/1797139632.py\u001b[0m in \u001b[0;36m<module>\u001b[1;34m\u001b[0m\n\u001b[1;32m----> 1\u001b[1;33m \u001b[1;32mwith\u001b[0m \u001b[0mtf\u001b[0m\u001b[1;33m.\u001b[0m\u001b[0mSession\u001b[0m\u001b[1;33m(\u001b[0m\u001b[1;33m)\u001b[0m \u001b[1;32mas\u001b[0m \u001b[0msess\u001b[0m\u001b[1;33m:\u001b[0m \u001b[1;31m# this should create a session using the default graph\u001b[0m\u001b[1;33m\u001b[0m\u001b[1;33m\u001b[0m\u001b[0m\n\u001b[0m\u001b[0;32m      2\u001b[0m     \u001b[0mtensor\u001b[0m\u001b[1;33m.\u001b[0m\u001b[0meval\u001b[0m\u001b[1;33m(\u001b[0m\u001b[1;33m)\u001b[0m\u001b[1;33m\u001b[0m\u001b[1;33m\u001b[0m\u001b[0m\n",
      "\u001b[1;31mAttributeError\u001b[0m: module 'tensorflow' has no attribute 'Session'"
     ]
    }
   ],
   "source": [
    "with tf.Session() as sess: # this should create a session using the default graph\n",
    "    tensor.eval()"
   ]
  },
  {
   "cell_type": "code",
   "execution_count": null,
   "id": "e1118038",
   "metadata": {},
   "outputs": [],
   "source": []
  }
 ],
 "metadata": {
  "kernelspec": {
   "display_name": "Python 3 (ipykernel)",
   "language": "python",
   "name": "python3"
  },
  "language_info": {
   "codemirror_mode": {
    "name": "ipython",
    "version": 3
   },
   "file_extension": ".py",
   "mimetype": "text/x-python",
   "name": "python",
   "nbconvert_exporter": "python",
   "pygments_lexer": "ipython3",
   "version": "3.9.7"
  }
 },
 "nbformat": 4,
 "nbformat_minor": 5
}
